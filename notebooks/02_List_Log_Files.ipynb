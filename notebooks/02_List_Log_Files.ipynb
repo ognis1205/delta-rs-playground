{
 "cells": [
  {
   "cell_type": "markdown",
   "id": "f765b369",
   "metadata": {},
   "source": [
    "### Import Required Modules"
   ]
  },
  {
   "cell_type": "code",
   "execution_count": 1,
   "id": "841ca2ce",
   "metadata": {},
   "outputs": [],
   "source": [
    "import pandas as pd\n",
    "from deltalake import DeltaTable\n",
    "from deltalake.writer import write_deltalake"
   ]
  },
  {
   "cell_type": "markdown",
   "id": "5c5456fa",
   "metadata": {},
   "source": [
    "### Load Delta Table"
   ]
  },
  {
   "cell_type": "code",
   "execution_count": 2,
   "id": "b41b8bdb",
   "metadata": {},
   "outputs": [],
   "source": [
    "dt = DeltaTable('s3://delta-rs-playground/test')"
   ]
  }
 ],
 "metadata": {
  "kernelspec": {
   "display_name": "Python 3 (ipykernel)",
   "language": "python",
   "name": "python3"
  },
  "language_info": {
   "codemirror_mode": {
    "name": "ipython",
    "version": 3
   },
   "file_extension": ".py",
   "mimetype": "text/x-python",
   "name": "python",
   "nbconvert_exporter": "python",
   "pygments_lexer": "ipython3",
   "version": "3.8.13"
  }
 },
 "nbformat": 4,
 "nbformat_minor": 5
}
