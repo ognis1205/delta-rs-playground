{
 "cells": [
  {
   "cell_type": "markdown",
   "id": "df53ea47",
   "metadata": {},
   "source": [
    "### Import Required Modules"
   ]
  },
  {
   "cell_type": "code",
   "execution_count": 1,
   "id": "ec239d97",
   "metadata": {},
   "outputs": [],
   "source": [
    "import os\n",
    "import glob\n",
    "import itertools\n",
    "from pathlib import Path\n",
    "import boto3\n",
    "import pandas as pd\n",
    "from deltalake import DeltaTable\n",
    "from deltalake.writer import write_deltalake"
   ]
  },
  {
   "cell_type": "markdown",
   "id": "e27cce9d",
   "metadata": {},
   "source": [
    "### Create Delta Table"
   ]
  },
  {
   "cell_type": "code",
   "execution_count": null,
   "id": "9cf75d51",
   "metadata": {},
   "outputs": [],
   "source": [
    "for i in range(0, 10_000):\n",
    "    df = pd.DataFrame({'x': [j for j in range(i * 100, (i + 1) * 100)]})\n",
    "    if i == 0:\n",
    "        write_deltalake('s3://delta-rs-playground/test', df)\n",
    "    else:\n",
    "        write_deltalake('s3://delta-rs-playground/test', df, mode='append')"
   ]
  },
  {
   "cell_type": "markdown",
   "id": "499cc867",
   "metadata": {},
   "source": [
    "### Utility Functions"
   ]
  },
  {
   "cell_type": "code",
   "execution_count": 2,
   "id": "9658a02a",
   "metadata": {},
   "outputs": [],
   "source": [
    "CLIENT = boto3.client('s3')\n",
    "\n",
    "def upload(local_path, bucket, gcs_path):\n",
    "    assert os.path.isdir(local_path)\n",
    "    for local_file in itertools.chain(glob.glob(local_path + '/**'), glob.glob(local_path + '/.**')):\n",
    "        if not os.path.isfile(local_file):\n",
    "            upload(local_file, bucket, gcs_path + \"/\" + os.path.basename(local_file))\n",
    "        else:\n",
    "            remote_path = os.path.join(gcs_path, os.path.basename(local_file))\n",
    "            CLIENT.upload_file(local_file, bucket, remote_path)"
   ]
  },
  {
   "cell_type": "markdown",
   "id": "dbee5484",
   "metadata": {},
   "source": [
    "### Upload Table to S3"
   ]
  },
  {
   "cell_type": "code",
   "execution_count": 4,
   "id": "328efb53",
   "metadata": {},
   "outputs": [],
   "source": [
    "upload('../data/local_table/', 'delta-rs-playground', 'test')"
   ]
  }
 ],
 "metadata": {
  "kernelspec": {
   "display_name": "Python 3 (ipykernel)",
   "language": "python",
   "name": "python3"
  },
  "language_info": {
   "codemirror_mode": {
    "name": "ipython",
    "version": 3
   },
   "file_extension": ".py",
   "mimetype": "text/x-python",
   "name": "python",
   "nbconvert_exporter": "python",
   "pygments_lexer": "ipython3",
   "version": "3.8.13"
  }
 },
 "nbformat": 4,
 "nbformat_minor": 5
}
