{
 "cells": [
  {
   "cell_type": "markdown",
   "id": "b8689f37",
   "metadata": {},
   "source": [
    "### Import Required Modules"
   ]
  },
  {
   "cell_type": "code",
   "execution_count": 1,
   "id": "59a2469c",
   "metadata": {},
   "outputs": [],
   "source": [
    "import pandas as pd\n",
    "from deltalake import DeltaTable\n",
    "from deltalake.writer import write_deltalake"
   ]
  },
  {
   "cell_type": "markdown",
   "id": "a6b21ccb",
   "metadata": {},
   "source": [
    "### Create Delta Table"
   ]
  },
  {
   "cell_type": "code",
   "execution_count": 2,
   "id": "696f82dc",
   "metadata": {},
   "outputs": [],
   "source": [
    "for i in range(0, 10_000):\n",
    "    df = pd.DataFrame({'x': [j for j in range(i * 100, (i + 1) * 100)]})\n",
    "    if i == 0:\n",
    "        write_deltalake('../data/local_table', df)\n",
    "    else:\n",
    "        write_deltalake('../data/local_table', df, mode='append')"
   ]
  }
 ],
 "metadata": {
  "kernelspec": {
   "display_name": "Python 3 (ipykernel)",
   "language": "python",
   "name": "python3"
  },
  "language_info": {
   "codemirror_mode": {
    "name": "ipython",
    "version": 3
   },
   "file_extension": ".py",
   "mimetype": "text/x-python",
   "name": "python",
   "nbconvert_exporter": "python",
   "pygments_lexer": "ipython3",
   "version": "3.8.13"
  }
 },
 "nbformat": 4,
 "nbformat_minor": 5
}
