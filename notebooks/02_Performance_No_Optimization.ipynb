{
 "cells": [
  {
   "cell_type": "markdown",
   "id": "f765b369",
   "metadata": {},
   "source": [
    "### Import Required Modules"
   ]
  },
  {
   "cell_type": "code",
   "execution_count": 1,
   "id": "841ca2ce",
   "metadata": {},
   "outputs": [],
   "source": [
    "import time\n",
    "import psutil\n",
    "import pandas as pd\n",
    "from deltalake import DeltaTable\n",
    "from deltalake.writer import write_deltalake"
   ]
  },
  {
   "cell_type": "markdown",
   "id": "47bafdcf",
   "metadata": {},
   "source": [
    "### Utility Functions"
   ]
  },
  {
   "cell_type": "code",
   "execution_count": 2,
   "id": "8e105980",
   "metadata": {},
   "outputs": [],
   "source": [
    "def get_size(bytes):\n",
    "    for unit in ['', 'K', 'M', 'G', 'T', 'P']:\n",
    "        if bytes < 1024:\n",
    "            return f\"{bytes:.2f}{unit}B\"\n",
    "        bytes /= 1024"
   ]
  },
  {
   "cell_type": "markdown",
   "id": "5c5456fa",
   "metadata": {},
   "source": [
    "### Load Delta Table"
   ]
  },
  {
   "cell_type": "code",
   "execution_count": 3,
   "id": "b41b8bdb",
   "metadata": {},
   "outputs": [
    {
     "name": "stdout",
     "output_type": "stream",
     "text": [
      "Upload: 636.00KB, Download: 1.31MB, Elapsed: 40.418964148 sec\n"
     ]
    }
   ],
   "source": [
    "start_time = time.perf_counter()\n",
    "io = psutil.net_io_counters()\n",
    "bytes_sent_0, bytes_recv_0 = io.bytes_sent, io.bytes_recv\n",
    "\n",
    "dt = DeltaTable('s3://delta-rs-playground/test', version=100)\n",
    "#dt = DeltaTable('s3://delta-rs-playground/test', version=1)\n",
    "\n",
    "end_time = time.perf_counter()\n",
    "io = psutil.net_io_counters()\n",
    "bytes_sent_1, bytes_recv_1 = io.bytes_sent, io.bytes_recv\n",
    "\n",
    "print(\n",
    "    f'Upload: {get_size(bytes_sent_1 - bytes_sent_0)}, '\n",
    "    f'Download: {get_size(bytes_recv_1 - bytes_recv_0)}, '\n",
    "    f'Elapsed: {end_time - start_time} sec'\n",
    ")"
   ]
  },
  {
   "cell_type": "markdown",
   "id": "c0faff48",
   "metadata": {},
   "source": [
    "### Load Version"
   ]
  },
  {
   "cell_type": "code",
   "execution_count": 4,
   "id": "44576549",
   "metadata": {},
   "outputs": [
    {
     "data": {
      "text/plain": [
       "999"
      ]
     },
     "execution_count": 4,
     "metadata": {},
     "output_type": "execute_result"
    }
   ],
   "source": [
    "dt.version()"
   ]
  },
  {
   "cell_type": "code",
   "execution_count": 5,
   "id": "130fb224",
   "metadata": {},
   "outputs": [
    {
     "name": "stdout",
     "output_type": "stream",
     "text": [
      "Upload: 622.00KB, Download: 1.28MB, Elapsed: 28.699390645999998 sec\n"
     ]
    }
   ],
   "source": [
    "start_time = time.perf_counter()\n",
    "io = psutil.net_io_counters()\n",
    "bytes_sent_0, bytes_recv_0 = io.bytes_sent, io.bytes_recv\n",
    "\n",
    "dt.load_version(100)\n",
    "\n",
    "end_time = time.perf_counter()\n",
    "io = psutil.net_io_counters()\n",
    "bytes_sent_1, bytes_recv_1 = io.bytes_sent, io.bytes_recv\n",
    "\n",
    "print(\n",
    "    f'Upload: {get_size(bytes_sent_1 - bytes_sent_0)}, '\n",
    "    f'Download: {get_size(bytes_recv_1 - bytes_recv_0)}, '\n",
    "    f'Elapsed: {end_time - start_time} sec'\n",
    ")"
   ]
  },
  {
   "cell_type": "code",
   "execution_count": 6,
   "id": "4f6486d1",
   "metadata": {},
   "outputs": [
    {
     "data": {
      "text/plain": [
       "999"
      ]
     },
     "execution_count": 6,
     "metadata": {},
     "output_type": "execute_result"
    }
   ],
   "source": [
    "dt.version()"
   ]
  },
  {
   "cell_type": "code",
   "execution_count": 7,
   "id": "a0d9f638",
   "metadata": {},
   "outputs": [],
   "source": [
    "dt = DeltaTable('s3://delta-rs-playground/test', version=250)"
   ]
  },
  {
   "cell_type": "markdown",
   "id": "ec1acfe4",
   "metadata": {},
   "source": [
    "### Update Incremental"
   ]
  },
  {
   "cell_type": "code",
   "execution_count": 8,
   "id": "d8159e8a",
   "metadata": {},
   "outputs": [
    {
     "data": {
      "text/plain": [
       "999"
      ]
     },
     "execution_count": 8,
     "metadata": {},
     "output_type": "execute_result"
    }
   ],
   "source": [
    "dt.version()"
   ]
  },
  {
   "cell_type": "code",
   "execution_count": 9,
   "id": "b3e7c740",
   "metadata": {},
   "outputs": [
    {
     "name": "stdout",
     "output_type": "stream",
     "text": [
      "Upload: 2.00KB, Download: 7.00KB, Elapsed: 0.065024379999997 sec\n"
     ]
    }
   ],
   "source": [
    "start_time = time.perf_counter()\n",
    "io = psutil.net_io_counters()\n",
    "bytes_sent_0, bytes_recv_0 = io.bytes_sent, io.bytes_recv\n",
    "\n",
    "dt.update_incremental()\n",
    "\n",
    "end_time = time.perf_counter()\n",
    "io = psutil.net_io_counters()\n",
    "bytes_sent_1, bytes_recv_1 = io.bytes_sent, io.bytes_recv\n",
    "\n",
    "print(\n",
    "    f'Upload: {get_size(bytes_sent_1 - bytes_sent_0)}, '\n",
    "    f'Download: {get_size(bytes_recv_1 - bytes_recv_0)}, '\n",
    "    f'Elapsed: {end_time - start_time} sec'\n",
    ")"
   ]
  },
  {
   "cell_type": "code",
   "execution_count": 10,
   "id": "5f2528dc",
   "metadata": {},
   "outputs": [
    {
     "data": {
      "text/plain": [
       "999"
      ]
     },
     "execution_count": 10,
     "metadata": {},
     "output_type": "execute_result"
    }
   ],
   "source": [
    "dt.version()"
   ]
  },
  {
   "cell_type": "code",
   "execution_count": null,
   "id": "c118b01c",
   "metadata": {},
   "outputs": [],
   "source": []
  }
 ],
 "metadata": {
  "kernelspec": {
   "display_name": "Python 3 (ipykernel)",
   "language": "python",
   "name": "python3"
  },
  "language_info": {
   "codemirror_mode": {
    "name": "ipython",
    "version": 3
   },
   "file_extension": ".py",
   "mimetype": "text/x-python",
   "name": "python",
   "nbconvert_exporter": "python",
   "pygments_lexer": "ipython3",
   "version": "3.8.13"
  }
 },
 "nbformat": 4,
 "nbformat_minor": 5
}
