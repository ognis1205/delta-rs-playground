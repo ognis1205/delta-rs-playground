{
 "cells": [
  {
   "cell_type": "markdown",
   "id": "f765b369",
   "metadata": {},
   "source": [
    "### Import Required Modules"
   ]
  },
  {
   "cell_type": "code",
   "execution_count": 1,
   "id": "841ca2ce",
   "metadata": {},
   "outputs": [],
   "source": [
    "import psutil\n",
    "import pandas as pd\n",
    "from deltalake import DeltaTable\n",
    "from deltalake.writer import write_deltalake"
   ]
  },
  {
   "cell_type": "markdown",
   "id": "5c5456fa",
   "metadata": {},
   "source": [
    "### Load Delta Table"
   ]
  },
  {
   "cell_type": "code",
   "execution_count": 21,
   "id": "b41b8bdb",
   "metadata": {},
   "outputs": [
    {
     "name": "stdout",
     "output_type": "stream",
     "text": [
      "Upload: 11.00KB   , Download: 221.00KB   \n"
     ]
    }
   ],
   "source": [
    "def get_size(bytes):\n",
    "    for unit in ['', 'K', 'M', 'G', 'T', 'P']:\n",
    "        if bytes < 1024:\n",
    "            return f\"{bytes:.2f}{unit}B\"\n",
    "        bytes /= 1024\n",
    "\n",
    "io = psutil.net_io_counters()\n",
    "bytes_sent_0, bytes_recv_0 = io.bytes_sent, io.bytes_recv\n",
    "\n",
    "dt = DeltaTable('s3://delta-rs-playground/test')\n",
    "\n",
    "io = psutil.net_io_counters()\n",
    "bytes_sent_1, bytes_recv_1 = io.bytes_sent, io.bytes_recv\n",
    "\n",
    "print(\n",
    "    f\"Upload: {get_size(bytes_sent_1 - bytes_sent_0)}   \"\n",
    "    f\", Download: {get_size(bytes_recv_1 - bytes_recv_0)}   \"\n",
    ")"
   ]
  },
  {
   "cell_type": "code",
   "execution_count": null,
   "id": "9d78be5d",
   "metadata": {},
   "outputs": [],
   "source": []
  }
 ],
 "metadata": {
  "kernelspec": {
   "display_name": "Python 3 (ipykernel)",
   "language": "python",
   "name": "python3"
  },
  "language_info": {
   "codemirror_mode": {
    "name": "ipython",
    "version": 3
   },
   "file_extension": ".py",
   "mimetype": "text/x-python",
   "name": "python",
   "nbconvert_exporter": "python",
   "pygments_lexer": "ipython3",
   "version": "3.8.13"
  }
 },
 "nbformat": 4,
 "nbformat_minor": 5
}
